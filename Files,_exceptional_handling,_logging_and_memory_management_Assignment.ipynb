{
  "nbformat": 4,
  "nbformat_minor": 0,
  "metadata": {
    "colab": {
      "provenance": []
    },
    "kernelspec": {
      "name": "python3",
      "display_name": "Python 3"
    },
    "language_info": {
      "name": "python"
    }
  },
  "cells": [
    {
      "cell_type": "markdown",
      "source": [
        "# Theory Questions"
      ],
      "metadata": {
        "id": "wrqvrR4WKSTW"
      }
    },
    {
      "cell_type": "markdown",
      "source": [
        "1. What is the difference between interpreted and compiled languages?\n",
        "\n",
        "  - Interpreted: Code is executed line by line (e.g., Python).\n",
        "  - Compiled: Code is converted into machine code first (e.g., C, C++).\n",
        "\n",
        "2. What is exception handling in Python?\n",
        "\n",
        "  - It is a way to handle errors during runtime using try, except, and finally blocks.\n",
        "\n",
        "3. What is the purpose of the finally block in exception handling?\n",
        "\n",
        "  - The finally block always runs (even if an error occurs) and is used for cleanup, like closing files.\n",
        "\n",
        "4. What is logging in Python?\n",
        "\n",
        "  - Logging is used to track events and errors in a program using the logging module.\n",
        "\n",
        "5. What is the significance of the __del__ method in Python?\n",
        "\n",
        "  - It is a destructor method called when an object is deleted to clean up resources.\n",
        "\n",
        "6. What is the difference between import and from ... import in Python?\n",
        "\n",
        "  - import module imports the entire module.\n",
        "  - from module import function imports specific functions or classes.\n",
        "\n",
        "7. How can you handle multiple exceptions in Python?\n",
        "\n",
        "  - In Python, multiple exceptions can be handled by using multiple except blocks after a single try block, where each except block handles a specific type of exception. Alternatively, a tuple of exceptions can be used in a single except block.\n",
        "\n",
        "8. What is the purpose of the with statement when handling files in Python?\n",
        "\n",
        "  - In Python, multiple exceptions can be handled by placing several except blocks after a single try block, each designed to handle a specific error type. Another way is to use a single except block with a tuple of exception types, allowing multiple errors to be caught together. This approach ensures that different types of errors are managed separately or collectively as needed.\n",
        "\n",
        "\n",
        "9. What is the difference between multithreading and multiprocessing?\n",
        "\n",
        "  - Multithreading: Multiple threads within the same process (share memory).\n",
        "  - Multiprocessing: Multiple processes with separate memory spaces.\n",
        "\n",
        "10. What are the advantages of using logging in a program?\n",
        "\n",
        "  - Tracks errors without stopping execution.\n",
        "  - Helps debugging and monitoring.\n",
        "\n",
        "11. What is memory management in Python?\n",
        "\n",
        "  - Python automatically manages memory using a garbage collector to remove unused objects.\n",
        "\n",
        "12. What are the basic steps involved in exception handling in Python?\n",
        "\n",
        "  - try: Code that might throw error.\n",
        "  - except: Handles error.\n",
        "  - else: Runs if no error.\n",
        "  - finally: Runs always.\n",
        "\n",
        "\n",
        "13. Why is memory management important in Python?\n",
        "\n",
        "  - It prevents memory leaks and ensures efficient use of RAM.\n",
        "\n",
        "14. What is the role of try and except in exception handling?\n",
        "\n",
        "  - try runs risky code, and except catches and handles the errors.\n",
        "\n",
        "15. How does Python's garbage collection system work?\n",
        "\n",
        "  - It uses reference counting and a cyclic garbage collector to free memory automatically.\n",
        "\n",
        "16. What is the purpose of the else block in exception handling?\n",
        "\n",
        "  - The else block runs only if no exception occurs.\n",
        "\n",
        "17. What are the common logging levels in Python?\n",
        "\n",
        "  - DEBUG, INFO, WARNING, ERROR, CRITICAL.\n",
        "\n",
        "18. What is the difference between os.fork() and multiprocessing in Python?\n",
        "\n",
        "  - os.fork() creates a child process (Unix only).\n",
        "  - multiprocessing is cross-platform and creates processes with better control.\n",
        "\n",
        "19. What is the importance of closing a file in Python?\n",
        "\n",
        "  - Closing ensures data is saved and resources are freed.\n",
        "\n",
        "20. What is the difference between file.read() and file.readline()?\n",
        "\n",
        "  - read() reads the entire file.\n",
        "  - readline() reads one line at a time.\n",
        "\n",
        "21. What is the logging module in Python used for?\n",
        "\n",
        "  - To log events, warnings, and errors into a file or console.\n",
        "\n",
        "22. What is the os module in Python used for in file handling?\n",
        "\n",
        "  - To interact with the operating system (e.g., os.remove, os.path.exists).\n",
        "\n",
        "23. What are the challenges associated with memory management in Python?\n",
        "\n",
        "  - Memory leaks due to circular references.\n",
        "  - Large data handling can slow performance.\n",
        "\n",
        "24. How do you raise an exception manually in Python?\n",
        "\n",
        "  - In Python, multiple exceptions are handled by using several except blocks after a try block, where each except block deals with a specific error type. Another approach is to use a single except block with a tuple of exception types to catch multiple errors together. This helps manage different types of errors in an organized way without stopping the program.\n",
        "\n",
        "25. Why is it important to use multithreading in certain applications?\n",
        "\n",
        "  - To run multiple tasks simultaneously (e.g., downloading files, I/O tasks), saving time.\n",
        "\n"
      ],
      "metadata": {
        "id": "Wo2SLlJbKfq4"
      }
    },
    {
      "cell_type": "markdown",
      "source": [
        "# Practical Questions"
      ],
      "metadata": {
        "id": "XSISopf-NR96"
      }
    },
    {
      "cell_type": "markdown",
      "source": [
        "# 1. How can you open a file for writing in Python and write a string to it?"
      ],
      "metadata": {
        "id": "Cpme-dhgNua2"
      }
    },
    {
      "cell_type": "code",
      "execution_count": 7,
      "metadata": {
        "colab": {
          "base_uri": "https://localhost:8080/"
        },
        "id": "s7BMjOUoKKVK",
        "outputId": "b61920d3-aa14-42f5-8fdc-d5164d22296c"
      },
      "outputs": [
        {
          "output_type": "stream",
          "name": "stdout",
          "text": [
            "File Content:\n",
            " Welcome to Python file handling!\n",
            "This is the second line.\n"
          ]
        }
      ],
      "source": [
        "file = open(\"demo.txt\", \"w\")\n",
        "\n",
        "file.write(\"Welcome to Python file handling!\\n\")\n",
        "file.write(\"This is the second line.\")\n",
        "\n",
        "file.close()\n",
        "\n",
        "file = open(\"demo.txt\", \"r\")\n",
        "content = file.read()\n",
        "print(\"File Content:\\n\", content)\n",
        "file.close()\n"
      ]
    },
    {
      "cell_type": "markdown",
      "source": [
        "# 2. Write a Python program to read the contents of a file and print each line."
      ],
      "metadata": {
        "id": "Em9xGdrEPDkZ"
      }
    },
    {
      "cell_type": "code",
      "source": [
        "# Step 1: Write data to a file\n",
        "with open(\"sample.txt\", \"w\") as file:\n",
        "    file.write(\"Line 1: Hello Akansha!\\n\")\n",
        "    file.write(\"Line 2: Welcome to Python file handling.\\n\")\n",
        "\n",
        "# Step 2: Append new data\n",
        "with open(\"sample.txt\", \"a\") as file:\n",
        "    file.write(\"Line 3: This is appended text.\\n\")\n",
        "\n",
        "# Step 3: Read all contents line by line\n",
        "with open(\"sample.txt\", \"r\") as file:\n",
        "    lines = file.readlines()\n",
        "\n",
        "print(\"File Content:\")\n",
        "for line in lines:\n",
        "    print(line.strip())  # remove extra newline"
      ],
      "metadata": {
        "colab": {
          "base_uri": "https://localhost:8080/"
        },
        "id": "LCfVTVfMNxag",
        "outputId": "7044b5f4-c85b-4c96-e4b7-6e5c842b499c"
      },
      "execution_count": 8,
      "outputs": [
        {
          "output_type": "stream",
          "name": "stdout",
          "text": [
            "File Content:\n",
            "Line 1: Hello Akansha!\n",
            "Line 2: Welcome to Python file handling.\n",
            "Line 3: This is appended text.\n"
          ]
        }
      ]
    },
    {
      "cell_type": "markdown",
      "source": [
        "# 3. How would you handle a case where the file doesn't exist while trying to open it for reading?\n"
      ],
      "metadata": {
        "id": "Sz5VTFDePdXX"
      }
    },
    {
      "cell_type": "code",
      "source": [
        "filename = \"unknown.txt\"\n",
        "\n",
        "try:\n",
        "    with open(filename, \"r\") as file:\n",
        "        content = file.read()\n",
        "        print(\"File Content:\\n\", content)\n",
        "except FileNotFoundError:\n",
        "    print(f\"Error: The file '{filename}' was not found.\")\n"
      ],
      "metadata": {
        "colab": {
          "base_uri": "https://localhost:8080/"
        },
        "id": "pJewei3YPb6r",
        "outputId": "920df98d-9658-4f47-dbec-9ba0dab8088c"
      },
      "execution_count": 9,
      "outputs": [
        {
          "output_type": "stream",
          "name": "stdout",
          "text": [
            "Error: The file 'unknown.txt' was not found.\n"
          ]
        }
      ]
    },
    {
      "cell_type": "markdown",
      "source": [
        "# 4. Write a Python script that reads from one file and writes its content to another file."
      ],
      "metadata": {
        "id": "LyJmkPZgP3K1"
      }
    },
    {
      "cell_type": "code",
      "source": [
        "# Create and write data to the source file\n",
        "with open(\"source.txt\", \"w\") as source:\n",
        "    source.write(\"This is the original file content.\\n\")\n",
        "    source.write(\"This is the second line of the source file.\\n\")\n",
        "\n",
        "# Read from the source file\n",
        "with open(\"source.txt\", \"r\") as source:\n",
        "    data = source.read()\n",
        "\n",
        "# Write the content to the destination file\n",
        "with open(\"destination.txt\", \"w\") as dest:\n",
        "    dest.write(data)\n",
        "\n",
        "# Verify by reading destination file\n",
        "with open(\"destination.txt\", \"r\") as dest:\n",
        "    print(\"Destination File Content:\\n\", dest.read())\n"
      ],
      "metadata": {
        "colab": {
          "base_uri": "https://localhost:8080/"
        },
        "id": "67jFSLB6Ptif",
        "outputId": "1945863e-3f8c-44e9-e466-b8d147224c75"
      },
      "execution_count": 10,
      "outputs": [
        {
          "output_type": "stream",
          "name": "stdout",
          "text": [
            "Destination File Content:\n",
            " This is the original file content.\n",
            "This is the second line of the source file.\n",
            "\n"
          ]
        }
      ]
    },
    {
      "cell_type": "markdown",
      "source": [
        "# 5. How would you catch and handle division by zero error in Python?"
      ],
      "metadata": {
        "id": "V71vHa8IQXCM"
      }
    },
    {
      "cell_type": "code",
      "source": [
        "try:\n",
        "    result = 10 / 0\n",
        "except ZeroDivisionError:\n",
        "    print(\"Division by zero is not allowed.\")\n"
      ],
      "metadata": {
        "colab": {
          "base_uri": "https://localhost:8080/"
        },
        "id": "7RTMqxFgP7ev",
        "outputId": "2912a821-4e69-42f9-d4d4-51cdd7115987"
      },
      "execution_count": 11,
      "outputs": [
        {
          "output_type": "stream",
          "name": "stdout",
          "text": [
            "Division by zero is not allowed.\n"
          ]
        }
      ]
    },
    {
      "cell_type": "markdown",
      "source": [
        "# 6. Write a Python program that logs an error message to a log file when a division by zero exception occurs."
      ],
      "metadata": {
        "id": "vR0JkIsSQayT"
      }
    },
    {
      "cell_type": "code",
      "source": [
        "import logging\n",
        "\n",
        "logging.basicConfig(filename=\"error.log\", level=logging.ERROR)\n",
        "\n",
        "try:\n",
        "    result = 10 / 0\n",
        "except ZeroDivisionError as e:\n",
        "    logging.error(\"Division by zero error occurred: %s\", e)\n",
        "    print(\"Error logged to file.\")\n"
      ],
      "metadata": {
        "colab": {
          "base_uri": "https://localhost:8080/"
        },
        "id": "A1h8TkVQQZiH",
        "outputId": "4cce846e-8b90-4ca5-8b0c-35d543da7ac1"
      },
      "execution_count": 12,
      "outputs": [
        {
          "output_type": "stream",
          "name": "stderr",
          "text": [
            "ERROR:root:Division by zero error occurred: division by zero\n"
          ]
        },
        {
          "output_type": "stream",
          "name": "stdout",
          "text": [
            "Error logged to file.\n"
          ]
        }
      ]
    },
    {
      "cell_type": "markdown",
      "source": [
        "# 7. How do you log information at different levels (INFO, ERROR, WARNING) in Python using the logging module?"
      ],
      "metadata": {
        "id": "T58jkJaTQj_m"
      }
    },
    {
      "cell_type": "code",
      "source": [
        "import logging\n",
        "\n",
        "logging.basicConfig(filename=\"log_levels.log\", level=logging.DEBUG)\n",
        "logging.info(\"This is an INFO message\")\n",
        "logging.warning(\"This is a WARNING message\")\n",
        "logging.error(\"This is an ERROR message\")\n"
      ],
      "metadata": {
        "colab": {
          "base_uri": "https://localhost:8080/"
        },
        "id": "HWPYRrLCQgL8",
        "outputId": "484b9c0f-d71b-484b-93c0-88d169d0784f"
      },
      "execution_count": 13,
      "outputs": [
        {
          "output_type": "stream",
          "name": "stderr",
          "text": [
            "WARNING:root:This is a WARNING message\n",
            "ERROR:root:This is an ERROR message\n"
          ]
        }
      ]
    },
    {
      "cell_type": "markdown",
      "source": [
        "# 8. Write a program to handle a file opening error using exception handling."
      ],
      "metadata": {
        "id": "agk-Ey-nQtmb"
      }
    },
    {
      "cell_type": "code",
      "source": [
        "try:\n",
        "    with open(\"no_file.txt\", \"r\") as file:\n",
        "        content = file.read()\n",
        "except FileNotFoundError:\n",
        "    print(\"File opening failed: File not found.\")\n"
      ],
      "metadata": {
        "colab": {
          "base_uri": "https://localhost:8080/"
        },
        "id": "wvykqGhCQnAi",
        "outputId": "da941109-38dc-4cc2-dbcf-128a1d4adadf"
      },
      "execution_count": 14,
      "outputs": [
        {
          "output_type": "stream",
          "name": "stdout",
          "text": [
            "File opening failed: File not found.\n"
          ]
        }
      ]
    },
    {
      "cell_type": "markdown",
      "source": [
        "# 9. How can you read a file line by line and store its content in a list in Python?"
      ],
      "metadata": {
        "id": "ppqmkYDrQz7p"
      }
    },
    {
      "cell_type": "code",
      "source": [
        "with open(\"example.txt\", \"r\") as file:\n",
        "    lines = [line.strip() for line in file]\n",
        "\n",
        "print(lines)\n"
      ],
      "metadata": {
        "colab": {
          "base_uri": "https://localhost:8080/"
        },
        "id": "7StMgsQUQxbB",
        "outputId": "124f22c5-ef14-4775-8696-8f319d841f9a"
      },
      "execution_count": 15,
      "outputs": [
        {
          "output_type": "stream",
          "name": "stdout",
          "text": [
            "['Hello, Akansha!']\n"
          ]
        }
      ]
    },
    {
      "cell_type": "markdown",
      "source": [
        "# 10. How can you append data to an existing file in Python?\n"
      ],
      "metadata": {
        "id": "37KCWYe_Q8pz"
      }
    },
    {
      "cell_type": "code",
      "source": [
        "with open(\"example.txt\", \"a\") as file:\n",
        "    file.write(\"\\nThis is a new line.\")"
      ],
      "metadata": {
        "id": "QpnEvwlcQ4RN"
      },
      "execution_count": 17,
      "outputs": []
    },
    {
      "cell_type": "markdown",
      "source": [
        "# 11. Write a Python program that uses a try-except block to handle an error when attempting to access a dictionary key that doesn't exist."
      ],
      "metadata": {
        "id": "SjQmD-qZRMzj"
      }
    },
    {
      "cell_type": "code",
      "source": [
        "data = {\"name\": \"Akansha\"}\n",
        "\n",
        "try:\n",
        "    print(data[\"age\"])\n",
        "except KeyError:\n",
        "    print(\"Key does not exist in dictionary.\")\n"
      ],
      "metadata": {
        "colab": {
          "base_uri": "https://localhost:8080/"
        },
        "id": "OSuCrySAQ_fC",
        "outputId": "8a50bd67-2b04-479d-ef04-b5207256d760"
      },
      "execution_count": 18,
      "outputs": [
        {
          "output_type": "stream",
          "name": "stdout",
          "text": [
            "Key does not exist in dictionary.\n"
          ]
        }
      ]
    },
    {
      "cell_type": "markdown",
      "source": [
        "# 12. Write a program that demonstrates using multiple except blocks to handle different types of exceptions."
      ],
      "metadata": {
        "id": "OcgiBwmrRSCb"
      }
    },
    {
      "cell_type": "code",
      "source": [
        "try:\n",
        "    num = int(\"abc\")\n",
        "    result = 10 / 0\n",
        "except ValueError:\n",
        "    print(\"Invalid value for conversion.\")\n",
        "except ZeroDivisionError:\n",
        "    print(\"Cannot divide by zero.\")\n"
      ],
      "metadata": {
        "colab": {
          "base_uri": "https://localhost:8080/"
        },
        "id": "gPNsmLdZRO_-",
        "outputId": "86be4e03-452b-41f2-a32c-148acbdebe0f"
      },
      "execution_count": 19,
      "outputs": [
        {
          "output_type": "stream",
          "name": "stdout",
          "text": [
            "Invalid value for conversion.\n"
          ]
        }
      ]
    },
    {
      "cell_type": "markdown",
      "source": [
        "# 13. How would you check if a file exists before attempting to read it in Python?"
      ],
      "metadata": {
        "id": "YLDLxNesRWnr"
      }
    },
    {
      "cell_type": "code",
      "source": [
        "import os\n",
        "\n",
        "if os.path.exists(\"example.txt\"):\n",
        "    with open(\"example.txt\", \"r\") as file:\n",
        "        print(file.read())\n",
        "else:\n",
        "    print(\"File does not exist.\")\n"
      ],
      "metadata": {
        "colab": {
          "base_uri": "https://localhost:8080/"
        },
        "id": "3zq-wvaiRUhR",
        "outputId": "f2ebf8e2-335c-4bd2-f215-e423327d389c"
      },
      "execution_count": 20,
      "outputs": [
        {
          "output_type": "stream",
          "name": "stdout",
          "text": [
            "Hello, Akansha!\n",
            "This is a new line.\n",
            "This is a new line.\n"
          ]
        }
      ]
    },
    {
      "cell_type": "markdown",
      "source": [
        "# 14. Write a program that uses the logging module to log both informational and error messages."
      ],
      "metadata": {
        "id": "oaJyxw9PRaUo"
      }
    },
    {
      "cell_type": "code",
      "source": [
        "import logging\n",
        "\n",
        "logging.basicConfig(filename=\"app.log\", level=logging.DEBUG,\n",
        "                    format=\"%(asctime)s - %(levelname)s - %(message)s\")\n",
        "\n",
        "logging.info(\"This is an informational message.\")\n",
        "logging.error(\"This is an error message.\")\n",
        "print(\"Logs written to app.log\")\n"
      ],
      "metadata": {
        "colab": {
          "base_uri": "https://localhost:8080/"
        },
        "id": "i0Z7HGj0RZJo",
        "outputId": "5110b9c3-4c72-4d9a-a045-e5a2acf9abbf"
      },
      "execution_count": 21,
      "outputs": [
        {
          "output_type": "stream",
          "name": "stderr",
          "text": [
            "ERROR:root:This is an error message.\n"
          ]
        },
        {
          "output_type": "stream",
          "name": "stdout",
          "text": [
            "Logs written to app.log\n"
          ]
        }
      ]
    },
    {
      "cell_type": "markdown",
      "source": [
        "# 15. Write a Python program that prints the content of a file and handles the case when the file is empty."
      ],
      "metadata": {
        "id": "rrxPU3bzRt4R"
      }
    },
    {
      "cell_type": "code",
      "source": [
        "filename = \"example.txt\"\n",
        "\n",
        "try:\n",
        "    with open(filename, \"r\") as file:\n",
        "        content = file.read()\n",
        "        if not content:\n",
        "            print(\"The file is empty.\")\n",
        "        else:\n",
        "            print(\"File Content:\\n\", content)\n",
        "except FileNotFoundError:\n",
        "    print(f\"The file '{filename}' does not exist.\")\n"
      ],
      "metadata": {
        "colab": {
          "base_uri": "https://localhost:8080/"
        },
        "id": "l6nAjssBRrHY",
        "outputId": "c2695911-d955-433d-dd7a-5f65fc6e3c62"
      },
      "execution_count": 22,
      "outputs": [
        {
          "output_type": "stream",
          "name": "stdout",
          "text": [
            "File Content:\n",
            " Hello, Akansha!\n",
            "This is a new line.\n",
            "This is a new line.\n"
          ]
        }
      ]
    },
    {
      "cell_type": "markdown",
      "source": [
        "# 16. Demonstrate how to use memory profiling to check the memory usage of a small program."
      ],
      "metadata": {
        "id": "u-hoxqIfR201"
      }
    },
    {
      "cell_type": "code",
      "source": [
        "# Install memory-profiler using: pip install memory-profiler\n",
        "from memory_profiler import profile\n",
        "\n",
        "@profile\n",
        "def create_list():\n",
        "    return [i for i in range(100000)]\n",
        "\n",
        "create_list()\n"
      ],
      "metadata": {
        "colab": {
          "base_uri": "https://localhost:8080/",
          "height": 399
        },
        "id": "DhyOAuQuR0Dt",
        "outputId": "de962db6-aee1-43b2-dbf6-d172893b96d9"
      },
      "execution_count": 23,
      "outputs": [
        {
          "output_type": "error",
          "ename": "ModuleNotFoundError",
          "evalue": "No module named 'memory_profiler'",
          "traceback": [
            "\u001b[0;31m---------------------------------------------------------------------------\u001b[0m",
            "\u001b[0;31mModuleNotFoundError\u001b[0m                       Traceback (most recent call last)",
            "\u001b[0;32m/tmp/ipython-input-23-3147010340.py\u001b[0m in \u001b[0;36m<cell line: 0>\u001b[0;34m()\u001b[0m\n\u001b[1;32m      1\u001b[0m \u001b[0;31m# Install memory-profiler using: pip install memory-profiler\u001b[0m\u001b[0;34m\u001b[0m\u001b[0;34m\u001b[0m\u001b[0m\n\u001b[0;32m----> 2\u001b[0;31m \u001b[0;32mfrom\u001b[0m \u001b[0mmemory_profiler\u001b[0m \u001b[0;32mimport\u001b[0m \u001b[0mprofile\u001b[0m\u001b[0;34m\u001b[0m\u001b[0;34m\u001b[0m\u001b[0m\n\u001b[0m\u001b[1;32m      3\u001b[0m \u001b[0;34m\u001b[0m\u001b[0m\n\u001b[1;32m      4\u001b[0m \u001b[0;34m@\u001b[0m\u001b[0mprofile\u001b[0m\u001b[0;34m\u001b[0m\u001b[0;34m\u001b[0m\u001b[0m\n\u001b[1;32m      5\u001b[0m \u001b[0;32mdef\u001b[0m \u001b[0mcreate_list\u001b[0m\u001b[0;34m(\u001b[0m\u001b[0;34m)\u001b[0m\u001b[0;34m:\u001b[0m\u001b[0;34m\u001b[0m\u001b[0;34m\u001b[0m\u001b[0m\n",
            "\u001b[0;31mModuleNotFoundError\u001b[0m: No module named 'memory_profiler'",
            "",
            "\u001b[0;31m---------------------------------------------------------------------------\u001b[0;32m\nNOTE: If your import is failing due to a missing package, you can\nmanually install dependencies using either !pip or !apt.\n\nTo view examples of installing some common dependencies, click the\n\"Open Examples\" button below.\n\u001b[0;31m---------------------------------------------------------------------------\u001b[0m\n"
          ],
          "errorDetails": {
            "actions": [
              {
                "action": "open_url",
                "actionText": "Open Examples",
                "url": "/notebooks/snippets/importing_libraries.ipynb"
              }
            ]
          }
        }
      ]
    },
    {
      "cell_type": "markdown",
      "source": [
        "# 17 Write a Python program to create and write a list of numbers to a file, one number per line."
      ],
      "metadata": {
        "id": "9LNjS5EdTnBu"
      }
    },
    {
      "cell_type": "code",
      "source": [
        "numbers = [1, 2, 3, 4, 5]\n",
        "with open(\"numbers.txt\", \"w\") as file:\n",
        "    for num in numbers:\n",
        "        file.write(f\"{num}\\n\")\n",
        "\n",
        "print(\"Numbers written to numbers.txt\")"
      ],
      "metadata": {
        "colab": {
          "base_uri": "https://localhost:8080/"
        },
        "id": "ygJJbRgTTuIz",
        "outputId": "7023cd7e-e8fc-4946-ffb8-f05b31fa8264"
      },
      "execution_count": 25,
      "outputs": [
        {
          "output_type": "stream",
          "name": "stdout",
          "text": [
            "Numbers written to numbers.txt\n"
          ]
        }
      ]
    },
    {
      "cell_type": "markdown",
      "source": [
        "# 18. How would you implement a basic logging setup that logs to a file with rotation after 1MB?"
      ],
      "metadata": {
        "id": "e2AtZL2_T50P"
      }
    },
    {
      "cell_type": "code",
      "source": [
        "import logging\n",
        "from logging.handlers import RotatingFileHandler\n",
        "\n",
        "handler = RotatingFileHandler(\"rotate.log\", maxBytes=1_000_000, backupCount=3)\n",
        "logging.basicConfig(handlers=[handler], level=logging.INFO,\n",
        "                    format=\"%(asctime)s - %(levelname)s - %(message)s\")\n",
        "\n",
        "for i in range(1000):\n",
        "    logging.info(f\"Log message {i}\")"
      ],
      "metadata": {
        "id": "vvvj8QlkT_EY"
      },
      "execution_count": 27,
      "outputs": []
    },
    {
      "cell_type": "markdown",
      "source": [
        "# 19 Write a program that handles both IndexError and KeyError using a try-except block."
      ],
      "metadata": {
        "id": "BXdwrFvoUJ1S"
      }
    },
    {
      "cell_type": "code",
      "source": [
        "data = {\"name\": \"Akansha\"}\n",
        "list_data = [10, 20]\n",
        "\n",
        "try:\n",
        "    print(list_data[5])  # IndexError\n",
        "    print(data[\"age\"])   # KeyError\n",
        "except IndexError:\n",
        "    print(\"Index out of range.\")\n",
        "except KeyError:\n",
        "    print(\"Key not found in dictionary.\")\n"
      ],
      "metadata": {
        "colab": {
          "base_uri": "https://localhost:8080/"
        },
        "id": "2BXsm41lUO-r",
        "outputId": "8eb60847-a055-4b90-c3b2-91ae54f5a115"
      },
      "execution_count": 28,
      "outputs": [
        {
          "output_type": "stream",
          "name": "stdout",
          "text": [
            "Index out of range.\n"
          ]
        }
      ]
    },
    {
      "cell_type": "markdown",
      "source": [
        "# 20 How would you open a file and read its contents using a context manager in Python?"
      ],
      "metadata": {
        "id": "pq4A5ZWTUURg"
      }
    },
    {
      "cell_type": "code",
      "source": [
        "with open(\"example.txt\", \"r\") as file:\n",
        "    print(file.read())\n"
      ],
      "metadata": {
        "colab": {
          "base_uri": "https://localhost:8080/"
        },
        "id": "knA2pQW3UYtG",
        "outputId": "7f1a2f94-2c41-493e-f4f1-543eed769c9f"
      },
      "execution_count": 29,
      "outputs": [
        {
          "output_type": "stream",
          "name": "stdout",
          "text": [
            "Hello, Akansha!\n",
            "This is a new line.\n",
            "This is a new line.\n"
          ]
        }
      ]
    },
    {
      "cell_type": "markdown",
      "source": [
        "# 21 Write a Python program that reads a file and prints the number of occurrences of a specific word."
      ],
      "metadata": {
        "id": "D6vEarxOUgLd"
      }
    },
    {
      "cell_type": "code",
      "source": [
        "word = \"Python\"\n",
        "count = 0\n",
        "\n",
        "with open(\"example.txt\", \"r\") as file:\n",
        "    for line in file:\n",
        "        count += line.count(word)\n",
        "\n",
        "print(f\"The word '{word}' appears {count} times.\")\n"
      ],
      "metadata": {
        "colab": {
          "base_uri": "https://localhost:8080/"
        },
        "id": "6QLpDXLPR6cM",
        "outputId": "0f3cfea2-8fac-4a37-eb1f-d90e7129973b"
      },
      "execution_count": 30,
      "outputs": [
        {
          "output_type": "stream",
          "name": "stdout",
          "text": [
            "The word 'Python' appears 0 times.\n"
          ]
        }
      ]
    },
    {
      "cell_type": "markdown",
      "source": [
        "# 22 How can you check if a file is empty before attempting to read its contents?"
      ],
      "metadata": {
        "id": "vhZ9Iv6PUwtw"
      }
    },
    {
      "cell_type": "code",
      "source": [
        "import os\n",
        "\n",
        "filename = \"example.txt\"\n",
        "if os.path.exists(filename) and os.stat(filename).st_size == 0:\n",
        "    print(\"The file is empty.\")\n",
        "else:\n",
        "    with open(filename, \"r\") as file:\n",
        "        print(file.read())\n"
      ],
      "metadata": {
        "colab": {
          "base_uri": "https://localhost:8080/"
        },
        "id": "bWNBjZOoUs07",
        "outputId": "4706186d-da63-49d2-c3f9-a087eea6d6d8"
      },
      "execution_count": 31,
      "outputs": [
        {
          "output_type": "stream",
          "name": "stdout",
          "text": [
            "Hello, Akansha!\n",
            "This is a new line.\n",
            "This is a new line.\n"
          ]
        }
      ]
    },
    {
      "cell_type": "markdown",
      "source": [
        "# 23 Write a Python program that writes to a log file when an error occurs during file handling."
      ],
      "metadata": {
        "id": "QRKdEK5wU7j8"
      }
    },
    {
      "cell_type": "code",
      "source": [
        "import logging\n",
        "\n",
        "logging.basicConfig(filename=\"file_error.log\", level=logging.ERROR,\n",
        "                    format=\"%(asctime)s - %(message)s\")\n",
        "\n",
        "try:\n",
        "    with open(\"unknown.txt\", \"r\") as file:\n",
        "        print(file.read())\n",
        "except FileNotFoundError as e:\n",
        "    logging.error(\"File not found error: %s\", e)\n",
        "    print(\"Error logged to file_error.log\")\n"
      ],
      "metadata": {
        "colab": {
          "base_uri": "https://localhost:8080/"
        },
        "id": "bg0_Ovr8U4Np",
        "outputId": "aff51872-ff68-4c7d-c90d-1c0f394b052f"
      },
      "execution_count": 32,
      "outputs": [
        {
          "output_type": "stream",
          "name": "stderr",
          "text": [
            "ERROR:root:File not found error: [Errno 2] No such file or directory: 'unknown.txt'\n"
          ]
        },
        {
          "output_type": "stream",
          "name": "stdout",
          "text": [
            "Error logged to file_error.log\n"
          ]
        }
      ]
    },
    {
      "cell_type": "code",
      "source": [],
      "metadata": {
        "id": "UabsGuOyU-3o"
      },
      "execution_count": null,
      "outputs": []
    }
  ]
}